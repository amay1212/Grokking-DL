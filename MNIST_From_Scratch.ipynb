{
  "nbformat": 4,
  "nbformat_minor": 0,
  "metadata": {
    "colab": {
      "provenance": [],
      "gpuType": "T4",
      "authorship_tag": "ABX9TyNLcnF4r6glPMSLD4wsWdo9",
      "include_colab_link": true
    },
    "kernelspec": {
      "name": "python3",
      "display_name": "Python 3"
    },
    "language_info": {
      "name": "python"
    },
    "accelerator": "GPU"
  },
  "cells": [
    {
      "cell_type": "markdown",
      "metadata": {
        "id": "view-in-github",
        "colab_type": "text"
      },
      "source": [
        "<a href=\"https://colab.research.google.com/github/amay1212/Grokking-DL/blob/main/MNIST_From_Scratch.ipynb\" target=\"_parent\"><img src=\"https://colab.research.google.com/assets/colab-badge.svg\" alt=\"Open In Colab\"/></a>"
      ]
    },
    {
      "cell_type": "code",
      "source": [
        "import sys, numpy as np\n",
        "from keras.datasets import mnist\n",
        "\n",
        "(x_train, y_train), (x_test, y_test) = mnist.load_data()\n"
      ],
      "metadata": {
        "colab": {
          "base_uri": "https://localhost:8080/"
        },
        "id": "LoJmJiO1YnkF",
        "outputId": "72a33a01-81a7-4eca-fb54-a4f7bcbfc0e5"
      },
      "execution_count": 2,
      "outputs": [
        {
          "output_type": "stream",
          "name": "stdout",
          "text": [
            "Downloading data from https://storage.googleapis.com/tensorflow/tf-keras-datasets/mnist.npz\n",
            "11490434/11490434 [==============================] - 0s 0us/step\n"
          ]
        }
      ]
    },
    {
      "cell_type": "code",
      "execution_count": 3,
      "metadata": {
        "colab": {
          "base_uri": "https://localhost:8080/"
        },
        "id": "4ZrWSqIvYljA",
        "outputId": "2c68271a-7ce4-489c-9f38-a7d2b894f114"
      },
      "outputs": [
        {
          "output_type": "stream",
          "name": "stdout",
          "text": [
            " I:0 Train-Err:0.680 Train-Acc:0.5241 Test-Err:0.863 Test-Acc:0.745\n",
            " I:10 Train-Err:0.284 Train-Acc:0.8904666666666666 Test-Err:0.746 Test-Acc:0.8619\n",
            " I:20 Train-Err:0.269 Train-Acc:0.8950333333333333 Test-Err:0.820 Test-Acc:0.8645\n",
            " I:30 Train-Err:0.264 Train-Acc:0.9002833333333333 Test-Err:0.727 Test-Acc:0.8623\n",
            " I:40 Train-Err:0.258 Train-Acc:0.90185 Test-Err:0.715 Test-Acc:0.8505\n",
            " I:50 Train-Err:0.252 Train-Acc:0.9013166666666667 Test-Err:0.802 Test-Acc:0.8527\n",
            " I:60 Train-Err:0.249 Train-Acc:0.90135 Test-Err:1.026 Test-Acc:0.8589\n",
            " I:70 Train-Err:0.247 Train-Acc:0.9007 Test-Err:1.180 Test-Acc:0.85\n",
            " I:80 Train-Err:0.250 Train-Acc:0.8983333333333333 Test-Err:1.277 Test-Acc:0.8389\n",
            " I:90 Train-Err:0.257 Train-Acc:0.8967666666666667 Test-Err:1.205 Test-Acc:0.8281\n",
            " I:100 Train-Err:0.255 Train-Acc:0.8990166666666667 Test-Err:1.131 Test-Acc:0.8497\n",
            " I:110 Train-Err:0.253 Train-Acc:0.9000666666666667 Test-Err:1.062 Test-Acc:0.8656\n",
            " I:120 Train-Err:0.252 Train-Acc:0.9017833333333334 Test-Err:1.031 Test-Acc:0.8484\n",
            " I:130 Train-Err:0.253 Train-Acc:0.9009833333333334 Test-Err:1.250 Test-Acc:0.7674\n",
            " I:140 Train-Err:0.255 Train-Acc:0.9013 Test-Err:1.400 Test-Acc:0.7314\n",
            " I:150 Train-Err:0.257 Train-Acc:0.9008 Test-Err:1.373 Test-Acc:0.7825\n",
            " I:160 Train-Err:0.258 Train-Acc:0.8997333333333334 Test-Err:1.453 Test-Acc:0.8321\n",
            " I:170 Train-Err:0.253 Train-Acc:0.9001833333333333 Test-Err:1.710 Test-Acc:0.818\n",
            " I:180 Train-Err:0.246 Train-Acc:0.9005833333333333 Test-Err:2.192 Test-Acc:0.7919\n",
            " I:190 Train-Err:0.244 Train-Acc:0.8995 Test-Err:2.589 Test-Acc:0.758\n",
            " I:199 Train-Err:0.257 Train-Acc:0.8975166666666666 Test-Err:2.135 Test-Acc:0.7981\n"
          ]
        }
      ],
      "source": [
        "\n",
        "images, labels = (x_train.reshape(60000,28*28) / 255, y_train[0:60000])\n",
        "\n",
        "one_hot_labels = np.zeros((len(labels),10))\n",
        "for i,l in enumerate(labels):\n",
        "    one_hot_labels[i][l] = 1\n",
        "labels = one_hot_labels\n",
        "\n",
        "test_images = x_test.reshape(len(x_test),28*28) / 255\n",
        "test_labels = np.zeros((len(y_test),10))\n",
        "for i,l in enumerate(y_test):\n",
        "    test_labels[i][l] = 1\n",
        "\n",
        "np.random.seed(1)\n",
        "relu = lambda x:(x>=0) * x # returns x if x > 0, return 0 otherwise\n",
        "relu2deriv = lambda x: x>=0 # returns 1 for input > 0, return 0 otherwise\n",
        "alpha, iterations, hidden_size, pixels_per_image, num_labels = (0.0005, 350, 40, 784, 10)\n",
        "\n",
        "weights_0_1 = 0.2*np.random.random((pixels_per_image, 40)) - 0.1\n",
        "weights_1_2 = 0.2*np.random.random((40, 16)) - 0.1\n",
        "weights_2_3 = 0.2*np.random.random((16, 10)) - 0.1\n",
        "iterations = 200\n",
        "for j in range(iterations):\n",
        "    error, correct_cnt = (0.0, 0)\n",
        "\n",
        "    for i in range(len(images)):\n",
        "        input_layer = images[i: i+1] # (1, 784)\n",
        "        target = labels[i:i+1]\n",
        "\n",
        "        layer_1_output = relu(input_layer.dot(weights_0_1)) # (1, 784) dot (784, 2)\n",
        "        #print(\"layer 1 o/p shape\", layer_1.shape) # (1, 2)\n",
        "\n",
        "        layer_2_output = relu(layer_1_output.dot(weights_1_2)) # (1, 2) dot (2, 4)\n",
        "        #print(\"layer 2 o/p shape\", layer_2_output.shape) # (1, 4)\n",
        "\n",
        "        layer_3_output = layer_2_output.dot(weights_2_3) # (1, 4) dot (4, 10)\n",
        "        #print(\"layer 3 o/p shape\", layer_3_output.shape)\n",
        "\n",
        "        # calculate error and gradient of error..\n",
        "        #error += np.sum((layer_3_output - target)**2)\n",
        "        # error += np.sum((target - layer_3_output)**2)\n",
        "        error += np.sum((labels[i:i+1] - layer_3_output) ** 2)\n",
        "        correct_cnt += int(np.argmax(layer_3_output) == \\\n",
        "                           np.argmax(target))\n",
        "        layer_3_gradient = (layer_3_output - target)\n",
        "        #layer_3_gradient = (target - layer_3_output)\n",
        "\n",
        "        #print(\"grad of layer3 output aka prediction\", layer_3_gradient.shape)\n",
        "\n",
        "        #back propagation..\n",
        "\n",
        "        layer_2_delta = layer_3_gradient.dot(weights_2_3.T) * relu2deriv(layer_2_output)\n",
        "        layer_1_delta = layer_2_delta.dot(weights_1_2.T) * relu2deriv(layer_1_output)\n",
        "\n",
        "        weights_2_3 -= alpha * (layer_2_output.T.dot(layer_3_gradient))\n",
        "        weights_1_2 -= alpha* (layer_1_output.T.dot(layer_2_delta))\n",
        "        weights_0_1 -= alpha * (input_layer.T.dot(layer_1_delta))\n",
        "    #print('done!!')\n",
        "    sys.stdout.write(\"\\r I:\"+str(j)+ \\\n",
        "                     \" Train-Err:\" + str(error/float(len(images)))[0:5] +\\\n",
        "                     \" Train-Acc:\" + str(correct_cnt/float(len(images))))\n",
        "\n",
        "    if(j % 10 == 0 or j == iterations-1):\n",
        "        error, correct_cnt = (0.0, 0)\n",
        "\n",
        "        for i in range(len(test_images)):\n",
        "\n",
        "            layer_0 = test_images[i:i+1]\n",
        "            layer_1 = relu(np.dot(layer_0,weights_0_1))\n",
        "            layer_2 = np.dot(layer_1,weights_1_2)\n",
        "\n",
        "            layer_3 = np.dot(layer_2, weights_2_3)\n",
        "\n",
        "            # error += np.sum((layer_3 - test_labels[i:i+1]) ** 2)\n",
        "            # error += np.sum((test_labels[i:i+1] - layer_3) ** 2)\n",
        "            error += np.sum((test_labels[i:i+1] - layer_3) ** 2)\n",
        "            correct_cnt += int(np.argmax(layer_3) == \\\n",
        "                                            np.argmax(test_labels[i:i+1]))\n",
        "        sys.stdout.write(\" Test-Err:\" + str(error/float(len(test_images)))[0:5] +\\\n",
        "                         \" Test-Acc:\" + str(correct_cnt/float(len(test_images))))\n",
        "        print()\n",
        "\n",
        ""
      ]
    },
    {
      "cell_type": "code",
      "source": [],
      "metadata": {
        "id": "ppPb84vyYygG"
      },
      "execution_count": null,
      "outputs": []
    }
  ]
}