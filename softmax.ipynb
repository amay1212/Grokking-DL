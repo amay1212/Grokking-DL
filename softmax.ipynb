{
  "cells": [
    {
      "cell_type": "markdown",
      "metadata": {
        "id": "view-in-github",
        "colab_type": "text"
      },
      "source": [
        "<a href=\"https://colab.research.google.com/github/amay1212/Grokking-DL/blob/main/softmax.ipynb\" target=\"_parent\"><img src=\"https://colab.research.google.com/assets/colab-badge.svg\" alt=\"Open In Colab\"/></a>"
      ]
    },
    {
      "cell_type": "code",
      "execution_count": null,
      "id": "149d5b7e",
      "metadata": {
        "colab": {
          "base_uri": "https://localhost:8080/"
        },
        "id": "149d5b7e",
        "outputId": "4e739c40-652b-45b2-fdf6-6ff4f74c0d8a"
      },
      "outputs": [
        {
          "output_type": "stream",
          "name": "stdout",
          "text": [
            "Mounted at /content/drive\n",
            "/content/drive/My Drive/assignments/assignment1/cs231n/datasets\n",
            "/content/drive/My Drive/assignments/assignment1\n"
          ]
        }
      ],
      "source": [
        "# This mounts your Google Drive to the Colab VM.\n",
        "from google.colab import drive\n",
        "drive.mount('/content/drive')\n",
        "\n",
        "# TODO: Enter the foldername in your Drive where you have saved the unzipped\n",
        "# assignment folder, e.g. 'cs231n/assignments/assignment1/'\n",
        "FOLDERNAME = \"assignments/assignment1/\"\n",
        "assert FOLDERNAME is not None, \"assignments/assignment1/\"\n",
        "\n",
        "# Now that we've mounted your Drive, this ensures that\n",
        "# the Python interpreter of the Colab VM can load\n",
        "# python files from within it.\n",
        "import sys\n",
        "sys.path.append('/content/drive/My Drive/{}'.format(FOLDERNAME))\n",
        "\n",
        "# This downloads the CIFAR-10 dataset to your Drive\n",
        "# if it doesn't already exist.\n",
        "%cd /content/drive/My\\ Drive/$FOLDERNAME/cs231n/datasets/\n",
        "!bash get_datasets.sh\n",
        "%cd /content/drive/My\\ Drive/$FOLDERNAME"
      ]
    },
    {
      "cell_type": "markdown",
      "id": "5fdfc27e",
      "metadata": {
        "tags": [
          "pdf-title"
        ],
        "id": "5fdfc27e"
      },
      "source": [
        "# Softmax exercise\n",
        "\n",
        "*Complete and hand in this completed worksheet (including its outputs and any supporting code outside of the worksheet) with your assignment submission. For more details see the [assignments page](http://vision.stanford.edu/teaching/cs231n/assignments.html) on the course website.*\n",
        "\n",
        "This exercise is analogous to the SVM exercise. You will:\n",
        "\n",
        "- implement a fully-vectorized **loss function** for the Softmax classifier\n",
        "- implement the fully-vectorized expression for its **analytic gradient**\n",
        "- **check your implementation** with numerical gradient\n",
        "- use a validation set to **tune the learning rate and regularization** strength\n",
        "- **optimize** the loss function with **SGD**\n",
        "- **visualize** the final learned weights\n"
      ]
    },
    {
      "cell_type": "code",
      "execution_count": null,
      "id": "ca6cf2d4",
      "metadata": {
        "tags": [
          "pdf-ignore"
        ],
        "id": "ca6cf2d4"
      },
      "outputs": [],
      "source": [
        "import random\n",
        "import numpy as np\n",
        "from cs231n.data_utils import load_CIFAR10\n",
        "import matplotlib.pyplot as plt\n",
        "\n",
        "%matplotlib inline\n",
        "plt.rcParams['figure.figsize'] = (10.0, 8.0) # set default size of plots\n",
        "plt.rcParams['image.interpolation'] = 'nearest'\n",
        "plt.rcParams['image.cmap'] = 'gray'\n",
        "\n",
        "# for auto-reloading extenrnal modules\n",
        "# see http://stackoverflow.com/questions/1907993/autoreload-of-modules-in-ipython\n",
        "%load_ext autoreload\n",
        "%autoreload 2"
      ]
    },
    {
      "cell_type": "code",
      "execution_count": null,
      "id": "9e9bbbbe",
      "metadata": {
        "tags": [
          "pdf-ignore"
        ],
        "colab": {
          "base_uri": "https://localhost:8080/"
        },
        "id": "9e9bbbbe",
        "outputId": "5fe9f9ea-4c78-465b-9184-7203ac36212f"
      },
      "outputs": [
        {
          "output_type": "stream",
          "name": "stdout",
          "text": [
            "Train data shape:  (49000, 3073)\n",
            "Train labels shape:  (49000,)\n",
            "Validation data shape:  (1000, 3073)\n",
            "Validation labels shape:  (1000,)\n",
            "Test data shape:  (1000, 3073)\n",
            "Test labels shape:  (1000,)\n",
            "dev data shape:  (500, 3073)\n",
            "dev labels shape:  (500,)\n"
          ]
        }
      ],
      "source": [
        "def get_CIFAR10_data(num_training=49000, num_validation=1000, num_test=1000, num_dev=500):\n",
        "    \"\"\"\n",
        "    Load the CIFAR-10 dataset from disk and perform preprocessing to prepare\n",
        "    it for the linear classifier. These are the same steps as we used for the\n",
        "    SVM, but condensed to a single function.\n",
        "    \"\"\"\n",
        "    # Load the raw CIFAR-10 data\n",
        "    cifar10_dir = 'cs231n/datasets/cifar-10-batches-py'\n",
        "\n",
        "    # Cleaning up variables to prevent loading data multiple times (which may cause memory issue)\n",
        "    try:\n",
        "       del X_train, y_train\n",
        "       del X_test, y_test\n",
        "       print('Clear previously loaded data.')\n",
        "    except:\n",
        "       pass\n",
        "\n",
        "    X_train, y_train, X_test, y_test = load_CIFAR10(cifar10_dir)\n",
        "\n",
        "    # subsample the data\n",
        "    mask = list(range(num_training, num_training + num_validation))\n",
        "    X_val = X_train[mask]\n",
        "    y_val = y_train[mask]\n",
        "    mask = list(range(num_training))\n",
        "    X_train = X_train[mask]\n",
        "    y_train = y_train[mask]\n",
        "    mask = list(range(num_test))\n",
        "    X_test = X_test[mask]\n",
        "    y_test = y_test[mask]\n",
        "    mask = np.random.choice(num_training, num_dev, replace=False)\n",
        "    X_dev = X_train[mask]\n",
        "    y_dev = y_train[mask]\n",
        "\n",
        "    # Preprocessing: reshape the image data into rows\n",
        "    X_train = np.reshape(X_train, (X_train.shape[0], -1))\n",
        "    X_val = np.reshape(X_val, (X_val.shape[0], -1))\n",
        "    X_test = np.reshape(X_test, (X_test.shape[0], -1))\n",
        "    X_dev = np.reshape(X_dev, (X_dev.shape[0], -1))\n",
        "\n",
        "    # Normalize the data: subtract the mean image\n",
        "    mean_image = np.mean(X_train, axis = 0)\n",
        "    X_train -= mean_image\n",
        "    X_val -= mean_image\n",
        "    X_test -= mean_image\n",
        "    X_dev -= mean_image\n",
        "\n",
        "    # add bias dimension and transform into columns\n",
        "    X_train = np.hstack([X_train, np.ones((X_train.shape[0], 1))])\n",
        "    X_val = np.hstack([X_val, np.ones((X_val.shape[0], 1))])\n",
        "    X_test = np.hstack([X_test, np.ones((X_test.shape[0], 1))])\n",
        "    X_dev = np.hstack([X_dev, np.ones((X_dev.shape[0], 1))])\n",
        "\n",
        "    return X_train, y_train, X_val, y_val, X_test, y_test, X_dev, y_dev\n",
        "\n",
        "\n",
        "# Invoke the above function to get our data.\n",
        "X_train, y_train, X_val, y_val, X_test, y_test, X_dev, y_dev = get_CIFAR10_data()\n",
        "print('Train data shape: ', X_train.shape)\n",
        "print('Train labels shape: ', y_train.shape)\n",
        "print('Validation data shape: ', X_val.shape)\n",
        "print('Validation labels shape: ', y_val.shape)\n",
        "print('Test data shape: ', X_test.shape)\n",
        "print('Test labels shape: ', y_test.shape)\n",
        "print('dev data shape: ', X_dev.shape)\n",
        "print('dev labels shape: ', y_dev.shape)"
      ]
    },
    {
      "cell_type": "markdown",
      "id": "d4c3fb04",
      "metadata": {
        "id": "d4c3fb04"
      },
      "source": [
        "## Softmax Classifier\n",
        "\n",
        "Your code for this section will all be written inside `cs231n/classifiers/softmax.py`.\n"
      ]
    },
    {
      "cell_type": "code",
      "source": [
        "# a= np.random.randn(2, 2)\n",
        "# b = np.random.randn(2, 2)\n",
        "# matrix = np.zeros((2, 2))\n",
        "# print(a)\n",
        "# cols = b.shape[1]\n",
        "# for i in range(len(a)):\n",
        "#   for j in range(cols):\n",
        "#     for k in range(len(a)):\n",
        "#       matrix[i][j] += a[i][k] * b[k][j]\n",
        "\n",
        "# print(matrix)"
      ],
      "metadata": {
        "colab": {
          "base_uri": "https://localhost:8080/"
        },
        "id": "qXcThG38YIDj",
        "outputId": "c57623ce-76cf-4354-d21d-014d57dd48c6"
      },
      "id": "qXcThG38YIDj",
      "execution_count": null,
      "outputs": [
        {
          "output_type": "stream",
          "name": "stdout",
          "text": [
            "[[-1.18038651  0.44019946]\n",
            " [-0.01012519  0.6943514 ]]\n",
            "[[1.47697743 0.86693853]\n",
            " [1.81255065 0.49892659]]\n"
          ]
        }
      ]
    },
    {
      "cell_type": "code",
      "source": [
        "t =np.array([1,2,3,4])\n",
        "print(t, t.shape)\n",
        "u = t[np.newaxis, :]\n",
        "print(u.shape)"
      ],
      "metadata": {
        "colab": {
          "base_uri": "https://localhost:8080/"
        },
        "id": "Sjf7oyUtY0of",
        "outputId": "dc5a4e18-d59d-4c8f-b480-f2a164cc6aff"
      },
      "id": "Sjf7oyUtY0of",
      "execution_count": null,
      "outputs": [
        {
          "output_type": "stream",
          "name": "stdout",
          "text": [
            "[1 2 3 4] (4,)\n",
            "(1, 4)\n"
          ]
        }
      ]
    },
    {
      "cell_type": "code",
      "execution_count": null,
      "id": "25f2e5e1",
      "metadata": {
        "colab": {
          "base_uri": "https://localhost:8080/"
        },
        "id": "25f2e5e1",
        "outputId": "d5ea7da0-b356-4308-8744-59401f78f1b8"
      },
      "outputs": [
        {
          "output_type": "stream",
          "name": "stdout",
          "text": [
            "(3073,)\n",
            "loss: 2.428287\n",
            "sanity check: 2.302585\n"
          ]
        }
      ],
      "source": [
        "# First implement the naive softmax loss function with nested loops.\n",
        "# Open the file cs231n/classifiers/softmax.py and implement the\n",
        "# softmax_loss_naive function.\n",
        "\n",
        "from cs231n.classifiers.softmax import softmax_loss_naive\n",
        "import time\n",
        "\n",
        "# Generate a random softmax weight matrix and use it to compute the loss.\n",
        "W = np.random.randn(3073, 10) * 0.0001\n",
        "#print(W.shape, X_dev.shape)\n",
        "loss, grad = softmax_loss_naive(W, X_dev, y_dev, 0.0)\n",
        "\n",
        "# As a rough sanity check, our loss should be something close to -log(0.1).\n",
        "print('loss: %f' % loss)\n",
        "print('sanity check: %f' % (-np.log(0.1)))"
      ]
    },
    {
      "cell_type": "code",
      "source": [
        "# (D, C) = > (3073, 10)\n",
        "# (N, D) => (500, 3073)\n",
        "\n",
        "# input * W (500, 3073) * (3073, 10) => (500, 10)"
      ],
      "metadata": {
        "id": "sqENd1TfWxar"
      },
      "id": "sqENd1TfWxar",
      "execution_count": null,
      "outputs": []
    },
    {
      "cell_type": "code",
      "source": [
        "-np.log(0.9)"
      ],
      "metadata": {
        "colab": {
          "base_uri": "https://localhost:8080/"
        },
        "id": "qtOIzccren2q",
        "outputId": "48671674-3fe8-49f7-cf3a-d3fe10831eec"
      },
      "id": "qtOIzccren2q",
      "execution_count": null,
      "outputs": [
        {
          "output_type": "execute_result",
          "data": {
            "text/plain": [
              "0.10536051565782628"
            ]
          },
          "metadata": {},
          "execution_count": 35
        }
      ]
    },
    {
      "cell_type": "markdown",
      "id": "15ebc638",
      "metadata": {
        "tags": [
          "pdf-inline"
        ],
        "id": "15ebc638"
      },
      "source": [
        "**Inline Question 1**\n",
        "\n",
        "Why do we expect our loss to be close to -log(0.1)? Explain briefly.**\n",
        "\n",
        "$\\color{blue}{\\textit Your Answer:}$ *Fill this in*\n",
        "\n",
        "Here we define that -log(0.1), 0.1 is probability, 0.1 is less confident, therefore we want our loss to increase. 0.1 probability means less confidence. We want this probability to be more. Lets try softmax with probability 0.8\n",
        "\n",
        "and check we get more confidence and less loss.\n",
        "\n"
      ]
    },
    {
      "cell_type": "code",
      "execution_count": null,
      "id": "a8cb3eb1",
      "metadata": {
        "id": "a8cb3eb1",
        "colab": {
          "base_uri": "https://localhost:8080/"
        },
        "outputId": "57284d4d-402c-4a9a-9df4-f46f7ca88cea"
      },
      "outputs": [
        {
          "output_type": "stream",
          "name": "stdout",
          "text": [
            "(3073,)\n",
            "(3073,)\n",
            "(3073,)\n",
            "numerical: 1.751986 analytic: 1.751986, relative error: 4.281741e-08\n",
            "(3073,)\n",
            "(3073,)\n",
            "numerical: 1.868844 analytic: 1.868844, relative error: 1.519148e-08\n",
            "(3073,)\n",
            "(3073,)\n",
            "numerical: -1.329097 analytic: -1.329097, relative error: 1.499870e-08\n",
            "(3073,)\n",
            "(3073,)\n",
            "numerical: 1.239129 analytic: 1.239129, relative error: 2.336070e-08\n",
            "(3073,)\n",
            "(3073,)\n",
            "numerical: 0.227488 analytic: 0.227489, relative error: 1.365017e-07\n",
            "(3073,)\n",
            "(3073,)\n",
            "numerical: 2.004713 analytic: 2.004713, relative error: 1.192370e-08\n",
            "(3073,)\n",
            "(3073,)\n",
            "numerical: -3.130581 analytic: -3.130581, relative error: 1.661569e-09\n",
            "(3073,)\n",
            "(3073,)\n",
            "numerical: 3.078224 analytic: 3.078224, relative error: 9.529765e-10\n",
            "(3073,)\n",
            "(3073,)\n",
            "numerical: 0.707954 analytic: 0.707954, relative error: 7.258367e-08\n",
            "(3073,)\n",
            "(3073,)\n",
            "numerical: -2.890083 analytic: -2.890083, relative error: 6.170929e-09\n",
            "(3073,)\n",
            "(3073,)\n",
            "(3073,)\n",
            "numerical: -0.619292 analytic: -0.619292, relative error: 1.944740e-08\n",
            "(3073,)\n",
            "(3073,)\n",
            "numerical: -0.259512 analytic: -0.259512, relative error: 6.008675e-08\n",
            "(3073,)\n",
            "(3073,)\n",
            "numerical: 2.580769 analytic: 2.580769, relative error: 5.271143e-09\n",
            "(3073,)\n",
            "(3073,)\n",
            "numerical: 0.473129 analytic: 0.473129, relative error: 2.978115e-08\n",
            "(3073,)\n",
            "(3073,)\n",
            "numerical: 1.421399 analytic: 1.421398, relative error: 3.130708e-08\n",
            "(3073,)\n",
            "(3073,)\n",
            "numerical: 4.363860 analytic: 4.363860, relative error: 2.103509e-08\n",
            "(3073,)\n",
            "(3073,)\n",
            "numerical: 2.097981 analytic: 2.097981, relative error: 7.716320e-09\n",
            "(3073,)\n",
            "(3073,)\n",
            "numerical: -2.207942 analytic: -2.207942, relative error: 1.256315e-08\n",
            "(3073,)\n",
            "(3073,)\n",
            "numerical: 0.660862 analytic: 0.660862, relative error: 2.055074e-09\n",
            "(3073,)\n",
            "(3073,)\n",
            "numerical: -1.219629 analytic: -1.219629, relative error: 6.724986e-08\n"
          ]
        }
      ],
      "source": [
        "# Complete the implementation of softmax_loss_naive and implement a (naive)\n",
        "# version of the gradient that uses nested loops.\n",
        "loss, grad = softmax_loss_naive(W, X_dev, y_dev, 0.0)\n",
        "\n",
        "# As we did for the SVM, use numeric gradient checking as a debugging tool.\n",
        "# The numeric gradient should be close to the analytic gradient.\n",
        "from cs231n.gradient_check import grad_check_sparse\n",
        "f = lambda w: softmax_loss_naive(w, X_dev, y_dev, 0.0)[0]\n",
        "grad_numerical = grad_check_sparse(f, W, grad, 10)\n",
        "\n",
        "# similar to SVM case, do another gradient check with regularization\n",
        "loss, grad = softmax_loss_naive(W, X_dev, y_dev, 5e1)\n",
        "f = lambda w: softmax_loss_naive(w, X_dev, y_dev, 5e1)[0]\n",
        "grad_numerical = grad_check_sparse(f, W, grad, 10)"
      ]
    },
    {
      "cell_type": "code",
      "execution_count": null,
      "id": "4a4a81d4",
      "metadata": {
        "id": "4a4a81d4",
        "colab": {
          "base_uri": "https://localhost:8080/"
        },
        "outputId": "d58871a9-7786-4bb1-e3c3-c5a3e93f0ef4"
      },
      "outputs": [
        {
          "output_type": "stream",
          "name": "stdout",
          "text": [
            "(3073,)\n",
            "naive loss: 2.428287e+00 computed in 0.062043s\n",
            "vectorized loss: 2.428287e+00 computed in 0.017554s\n",
            "Loss difference: 0.000000\n",
            "Gradient difference: 0.000000\n"
          ]
        }
      ],
      "source": [
        "# Now that we have a naive implementation of the softmax loss function and its gradient,\n",
        "# implement a vectorized version in softmax_loss_vectorized.\n",
        "# The two versions should compute the same results, but the vectorized version should be\n",
        "# much faster.\n",
        "tic = time.time()\n",
        "loss_naive, grad_naive = softmax_loss_naive(W, X_dev, y_dev, 0.000005)\n",
        "toc = time.time()\n",
        "print('naive loss: %e computed in %fs' % (loss_naive, toc - tic))\n",
        "\n",
        "from cs231n.classifiers.softmax import softmax_loss_vectorized\n",
        "tic = time.time()\n",
        "loss_vectorized, grad_vectorized = softmax_loss_vectorized(W, X_dev, y_dev, 0.000005)\n",
        "toc = time.time()\n",
        "print('vectorized loss: %e computed in %fs' % (loss_vectorized, toc - tic))\n",
        "\n",
        "# As we did for the SVM, we use the Frobenius norm to compare the two versions\n",
        "# of the gradient.\n",
        "grad_difference = np.linalg.norm(grad_naive - grad_vectorized, ord='fro')\n",
        "print('Loss difference: %f' % np.abs(loss_naive - loss_vectorized))\n",
        "print('Gradient difference: %f' % grad_difference)"
      ]
    },
    {
      "cell_type": "code",
      "source": [
        "import itertools\n",
        "learning_rates = [1e-7, 5e-7]\n",
        "regularization_strengths = [2.5e4, 5e4]\n",
        "\n",
        "for lr, reg in itertools.product(learning_rates, regularization_strengths):\n",
        "  print(lr, reg)"
      ],
      "metadata": {
        "colab": {
          "base_uri": "https://localhost:8080/"
        },
        "id": "FBMv9LF2DoTF",
        "outputId": "f252aaa0-0cf3-4ec6-a431-5049eda5214c"
      },
      "id": "FBMv9LF2DoTF",
      "execution_count": null,
      "outputs": [
        {
          "output_type": "stream",
          "name": "stdout",
          "text": [
            "1e-07 25000.0\n",
            "1e-07 50000.0\n",
            "5e-07 25000.0\n",
            "5e-07 50000.0\n"
          ]
        }
      ]
    },
    {
      "cell_type": "code",
      "source": [
        "X_train.shape"
      ],
      "metadata": {
        "colab": {
          "base_uri": "https://localhost:8080/"
        },
        "id": "5WmqhaXrHrGJ",
        "outputId": "5368ee39-b9d9-4510-be11-97f3a9ce3e13"
      },
      "id": "5WmqhaXrHrGJ",
      "execution_count": null,
      "outputs": [
        {
          "output_type": "execute_result",
          "data": {
            "text/plain": [
              "(49000, 3073)"
            ]
          },
          "metadata": {},
          "execution_count": 24
        }
      ]
    },
    {
      "cell_type": "code",
      "source": [
        "from cs231n.classifiers import Softmax"
      ],
      "metadata": {
        "id": "SUR95Wu4IZrp"
      },
      "id": "SUR95Wu4IZrp",
      "execution_count": null,
      "outputs": []
    },
    {
      "cell_type": "code",
      "source": [
        "help(Softmax)"
      ],
      "metadata": {
        "colab": {
          "base_uri": "https://localhost:8080/"
        },
        "id": "f6MaaMx4IbDy",
        "outputId": "f4283d13-0759-4a65-91cc-434d165202f3"
      },
      "id": "f6MaaMx4IbDy",
      "execution_count": null,
      "outputs": [
        {
          "output_type": "stream",
          "name": "stdout",
          "text": [
            "Help on class Softmax in module cs231n.classifiers.linear_classifier:\n",
            "\n",
            "class Softmax(LinearClassifier)\n",
            " |  A subclass that uses the Softmax + Cross-entropy loss function\n",
            " |  \n",
            " |  Method resolution order:\n",
            " |      Softmax\n",
            " |      LinearClassifier\n",
            " |      builtins.object\n",
            " |  \n",
            " |  Methods defined here:\n",
            " |  \n",
            " |  loss(self, X_batch, y_batch, reg)\n",
            " |      Compute the loss function and its derivative.\n",
            " |      Subclasses will override this.\n",
            " |      \n",
            " |      Inputs:\n",
            " |      - X_batch: A numpy array of shape (N, D) containing a minibatch of N\n",
            " |        data points; each point has dimension D.\n",
            " |      - y_batch: A numpy array of shape (N,) containing labels for the minibatch.\n",
            " |      - reg: (float) regularization strength.\n",
            " |      \n",
            " |      Returns: A tuple containing:\n",
            " |      - loss as a single float\n",
            " |      - gradient with respect to self.W; an array of the same shape as W\n",
            " |  \n",
            " |  ----------------------------------------------------------------------\n",
            " |  Methods inherited from LinearClassifier:\n",
            " |  \n",
            " |  __init__(self)\n",
            " |      Initialize self.  See help(type(self)) for accurate signature.\n",
            " |  \n",
            " |  predict(self, X)\n",
            " |      Use the trained weights of this linear classifier to predict labels for\n",
            " |      data points.\n",
            " |      \n",
            " |      Inputs:\n",
            " |      - X: A numpy array of shape (N, D) containing training data; there are N\n",
            " |        training samples each of dimension D.\n",
            " |      \n",
            " |      Returns:\n",
            " |      - y_pred: Predicted labels for the data in X. y_pred is a 1-dimensional\n",
            " |        array of length N, and each element is an integer giving the predicted\n",
            " |        class.\n",
            " |  \n",
            " |  train(self, X, y, learning_rate=0.001, reg=1e-05, num_iters=100, batch_size=200, verbose=False)\n",
            " |      Train this linear classifier using stochastic gradient descent.\n",
            " |      \n",
            " |      Inputs:\n",
            " |      - X: A numpy array of shape (N, D) containing training data; there are N\n",
            " |        training samples each of dimension D.\n",
            " |      - y: A numpy array of shape (N,) containing training labels; y[i] = c\n",
            " |        means that X[i] has label 0 <= c < C for C classes.\n",
            " |      - learning_rate: (float) learning rate for optimization.\n",
            " |      - reg: (float) regularization strength.\n",
            " |      - num_iters: (integer) number of steps to take when optimizing\n",
            " |      - batch_size: (integer) number of training examples to use at each step.\n",
            " |      - verbose: (boolean) If true, print progress during optimization.\n",
            " |      \n",
            " |      Outputs:\n",
            " |      A list containing the value of the loss function at each training iteration.\n",
            " |  \n",
            " |  ----------------------------------------------------------------------\n",
            " |  Data descriptors inherited from LinearClassifier:\n",
            " |  \n",
            " |  __dict__\n",
            " |      dictionary for instance variables (if defined)\n",
            " |  \n",
            " |  __weakref__\n",
            " |      list of weak references to the object (if defined)\n",
            "\n"
          ]
        }
      ]
    },
    {
      "cell_type": "code",
      "source": [
        "X_train.shape"
      ],
      "metadata": {
        "colab": {
          "base_uri": "https://localhost:8080/"
        },
        "id": "a2VTvx5iIvNr",
        "outputId": "728dc069-0815-4ebb-8b10-805a0ca2bcec"
      },
      "id": "a2VTvx5iIvNr",
      "execution_count": null,
      "outputs": [
        {
          "output_type": "execute_result",
          "data": {
            "text/plain": [
              "(49000, 3073)"
            ]
          },
          "metadata": {},
          "execution_count": 28
        }
      ]
    },
    {
      "cell_type": "code",
      "source": [
        "X_dev.shape"
      ],
      "metadata": {
        "colab": {
          "base_uri": "https://localhost:8080/"
        },
        "id": "KWKqKE-YKFwc",
        "outputId": "245eef48-8e37-4f2b-908f-a6c28d50addc"
      },
      "id": "KWKqKE-YKFwc",
      "execution_count": null,
      "outputs": [
        {
          "output_type": "execute_result",
          "data": {
            "text/plain": [
              "(500, 3073)"
            ]
          },
          "metadata": {},
          "execution_count": 30
        }
      ]
    },
    {
      "cell_type": "code",
      "source": [
        "batch_indices = np.random.choice(X_dev.shape[0], size=200, replace=True)"
      ],
      "metadata": {
        "id": "_E86b-aiKJMZ"
      },
      "id": "_E86b-aiKJMZ",
      "execution_count": null,
      "outputs": []
    },
    {
      "cell_type": "code",
      "source": [
        "X_dev[batch_indices]"
      ],
      "metadata": {
        "colab": {
          "base_uri": "https://localhost:8080/"
        },
        "id": "R2Bsz0s_KLj5",
        "outputId": "89aeb6bc-4528-4b27-a5ba-61c065a631d9"
      },
      "id": "R2Bsz0s_KLj5",
      "execution_count": null,
      "outputs": [
        {
          "output_type": "execute_result",
          "data": {
            "text/plain": [
              "array([[ -51.64189796,  -49.98173469,  -78.47391837, ...,  -16.86195918,\n",
              "         -24.39957143,    1.        ],\n",
              "       [-123.64189796, -129.98173469, -118.47391837, ...,  -84.86195918,\n",
              "         -93.39957143,    1.        ],\n",
              "       [  32.35810204,   78.01826531,  100.52608163, ...,  -22.86195918,\n",
              "         -47.39957143,    1.        ],\n",
              "       ...,\n",
              "       [  97.35810204,   96.01826531,  110.52608163, ...,   82.13804082,\n",
              "          90.60042857,    1.        ],\n",
              "       [ -21.64189796,  -18.98173469,   15.52608163, ...,  -13.86195918,\n",
              "         -38.39957143,    1.        ],\n",
              "       [ -93.64189796,  -56.98173469,   20.52608163, ...,  -57.86195918,\n",
              "          42.60042857,    1.        ]])"
            ]
          },
          "metadata": {},
          "execution_count": 33
        }
      ]
    },
    {
      "cell_type": "code",
      "source": [
        "num_classes = (\n",
        "            np.max(y_dev) + 1\n",
        "        )"
      ],
      "metadata": {
        "id": "vr0s_y0EMYN1"
      },
      "id": "vr0s_y0EMYN1",
      "execution_count": null,
      "outputs": []
    },
    {
      "cell_type": "code",
      "source": [
        "num_classes"
      ],
      "metadata": {
        "colab": {
          "base_uri": "https://localhost:8080/"
        },
        "id": "i-BZarSLMcQQ",
        "outputId": "45d0a747-4751-49ed-f390-812ae41cd891"
      },
      "id": "i-BZarSLMcQQ",
      "execution_count": null,
      "outputs": [
        {
          "output_type": "execute_result",
          "data": {
            "text/plain": [
              "10"
            ]
          },
          "metadata": {},
          "execution_count": 35
        }
      ]
    },
    {
      "cell_type": "code",
      "execution_count": null,
      "id": "a3453536",
      "metadata": {
        "tags": [
          "code"
        ],
        "test": "tuning",
        "id": "a3453536",
        "colab": {
          "base_uri": "https://localhost:8080/"
        },
        "outputId": "d36410c1-e8cf-4ae0-bcdc-a34d5b805a21"
      },
      "outputs": [
        {
          "output_type": "stream",
          "name": "stdout",
          "text": [
            "lr 1.000000e-07 reg 2.500000e+04 train accuracy: 0.340673 val accuracy: 0.356000\n",
            "lr 1.000000e-07 reg 5.000000e+04 train accuracy: 0.323776 val accuracy: 0.340000\n",
            "lr 5.000000e-07 reg 2.500000e+04 train accuracy: 0.351837 val accuracy: 0.359000\n",
            "lr 5.000000e-07 reg 5.000000e+04 train accuracy: 0.327245 val accuracy: 0.342000\n",
            "best validation accuracy achieved during cross-validation: 0.359000\n"
          ]
        }
      ],
      "source": [
        "# Use the validation set to tune hyperparameters (regularization strength and\n",
        "# learning rate). You should experiment with different ranges for the learning\n",
        "# rates and regularization strengths; if you are careful you should be able to\n",
        "# get a classification accuracy of over 0.35 on the validation set.\n",
        "\n",
        "from cs231n.classifiers import Softmax\n",
        "results = {}\n",
        "best_val = -1\n",
        "best_softmax = None\n",
        "\n",
        "################################################################################\n",
        "# TODO:                                                                        #\n",
        "# Use the validation set to set the learning rate and regularization strength. #\n",
        "# This should be identical to the validation that you did for the SVM; save    #\n",
        "# the best trained softmax classifer in best_softmax.                          #\n",
        "################################################################################\n",
        "\n",
        "\n",
        "learning_rates = [1e-7, 5e-7]\n",
        "regularization_strengths = [2.5e4, 5e4]\n",
        "\n",
        "num_folds = 5\n",
        "X_train_folds=np.array_split(X_train, num_folds)\n",
        "y_train_folds=np.array_split(y_train, num_folds)\n",
        "################################################################################\n",
        "# *****START OF YOUR CODE (DO NOT DELETE/MODIFY THIS LINE)*****\n",
        "cv_fold=list(range(num_folds))\n",
        "\n",
        "# Import useful libraries\n",
        "import sys\n",
        "\n",
        "# Binary variable to print extra info within the loop\n",
        "Verbose=False\n",
        "label_folds = np.array_split(y_train, 5)\n",
        "results = {}\n",
        "for lr, reg in itertools.product(learning_rates, regularization_strengths):\n",
        "    softmax=Softmax()\n",
        "    softmax.train(X_train, y_train, learning_rate=lr, reg=reg, num_iters=1000)\n",
        "    y_train_pred=softmax.predict(X_train)\n",
        "    y_val_pred=softmax.predict(X_val)\n",
        "    training_accuracy=np.mean(y_train_pred==y_train)\n",
        "    validation_accuracy=np.mean(y_val_pred==y_val)\n",
        "    if validation_accuracy > best_val:\n",
        "      best_val = validation_accuracy\n",
        "      best_softmax = softmax\n",
        "\n",
        "    results[lr, reg] = (training_accuracy, validation_accuracy)\n",
        "\n",
        "# #print(results)\n",
        "# *****END OF YOUR CODE (DO NOT DELETE/MODIFY THIS LINE)*****\n",
        "\n",
        "# Print out results.\n",
        "for lr, reg in sorted(results):\n",
        "\n",
        "    train_accuracy, val_accuracy = results[(lr, reg)]\n",
        "\n",
        "\n",
        "    print('lr %e reg %e train accuracy: %f val accuracy: %f' % (\n",
        "                lr, reg, train_accuracy, val_accuracy))\n",
        "\n",
        "print('best validation accuracy achieved during cross-validation: %f' % best_val)"
      ]
    },
    {
      "cell_type": "code",
      "execution_count": null,
      "id": "8a1f9db3",
      "metadata": {
        "test": "test",
        "id": "8a1f9db3",
        "colab": {
          "base_uri": "https://localhost:8080/"
        },
        "outputId": "0f2a27e1-782c-4218-981b-22402a9158de"
      },
      "outputs": [
        {
          "output_type": "stream",
          "name": "stdout",
          "text": [
            "softmax on raw pixels final test set accuracy: 0.357000\n"
          ]
        }
      ],
      "source": [
        "# evaluate on test set\n",
        "# Evaluate the best softmax on test set\n",
        "y_test_pred = best_softmax.predict(X_test)\n",
        "test_accuracy = np.mean(y_test == y_test_pred)\n",
        "print('softmax on raw pixels final test set accuracy: %f' % (test_accuracy, ))"
      ]
    },
    {
      "cell_type": "markdown",
      "id": "86b9b65c",
      "metadata": {
        "tags": [
          "pdf-inline"
        ],
        "id": "86b9b65c"
      },
      "source": [
        "**Inline Question 2** - *True or False*\n",
        "\n",
        "Suppose the overall training loss is defined as the sum of the per-datapoint loss over all training examples. It is possible to add a new datapoint to a training set that would leave the SVM loss unchanged, but this is not the case with the Softmax classifier loss.\n",
        "\n",
        "$\\color{blue}{\\textit Your Answer:}$\n",
        "\n",
        "\n",
        "$\\color{blue}{\\textit Your Explanation:}$\n",
        "\n"
      ]
    },
    {
      "cell_type": "code",
      "execution_count": null,
      "id": "009f08b9",
      "metadata": {
        "id": "009f08b9",
        "colab": {
          "base_uri": "https://localhost:8080/",
          "height": 528
        },
        "outputId": "f2b82bcd-50e9-4ced-ac09-9444a2310b53"
      },
      "outputs": [
        {
          "output_type": "display_data",
          "data": {
            "text/plain": [
              "<Figure size 1000x800 with 10 Axes>"
            ],
            "image/png": "[encoded data removed]"
          },
          "metadata": {}
        }
      ],
      "source": [
        "# Visualize the learned weights for each class\n",
        "w = best_softmax.W[:-1,:] # strip out the bias\n",
        "w = w.reshape(32, 32, 3, 10)\n",
        "\n",
        "w_min, w_max = np.min(w), np.max(w)\n",
        "\n",
        "classes = ['plane', 'car', 'bird', 'cat', 'deer', 'dog', 'frog', 'horse', 'ship', 'truck']\n",
        "for i in range(10):\n",
        "    plt.subplot(2, 5, i + 1)\n",
        "\n",
        "    # Rescale the weights to be between 0 and 255\n",
        "    wimg = 255.0 * (w[:, :, :, i].squeeze() - w_min) / (w_max - w_min)\n",
        "    plt.imshow(wimg.astype('uint8'))\n",
        "    plt.axis('off')\n",
        "    plt.title(classes[i])"
      ]
    }
  ],
  "metadata": {
    "colab": {
      "provenance": [],
      "include_colab_link": true
    },
    "language_info": {
      "name": "python"
    },
    "kernelspec": {
      "name": "python3",
      "display_name": "Python 3"
    }
  },
  "nbformat": 4,
  "nbformat_minor": 5
}